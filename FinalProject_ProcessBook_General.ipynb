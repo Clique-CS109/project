{
 "cells": [
  {
   "cell_type": "markdown",
   "metadata": {},
   "source": [
    "# Book Recommendation with Machine Learning\n",
    "<img src = \"https://img.grouponcdn.com/seocms/ajPaKzNP9U8cyrZ5vyexnD/10-Handwritten-Book-Recommendations-from-Unabridged-Bookstore_600c390-600x390.jpeg\">"
   ]
  },
  {
   "cell_type": "markdown",
   "metadata": {},
   "source": [
    "##1. Overview\n",
    "Online book store in Korea is as prosperous as in any other countries in the world. It has about 36% of entire book market share in Korea, and this number is consitently growing every year. <i>Yes24</i> is the leading online book store in Korea, having 44% of online book market. However, <i>Yes24</i> doesn't have a recommender system not so good that it often recommends totally irrelavant books, or even a goods that is not a book. <i>Yes24</i> recently opened a competition where data scientists suggest a solution for accurate book recommender, releasing the purchase history of 19,000 users within 2014. This motivated us to build a book recommeder algorithm, using the technique we've learned throughout the semester. <br><br>\n",
    "We've tried three different algorithms: one is based on popularities of books and the other on k-nearest neighbor (kNN) with user similarity and book similarity. As a result, we found that kNN with user similarity has the best recommendation accuracy"
   ]
  },
  {
   "cell_type": "markdown",
   "metadata": {},
   "source": [
    "##2. Data\n",
    "The data given by <i>Yes24</i> contains the information of 511,742 transactions of about 19,000 users' purchase history, involving about 19,000 books, in the following fields:\n",
    "\n",
    "- Customer ID: unique, encrypted customer identification `ID`\n",
    "- Transaction Date `Date`\n",
    "- Book Title `Title`\n",
    "- Type of transaction: takes either ordered, cancelled, or refunded `Class`\n",
    "- Book Category: Foreign literature, Domestic literature, Religion, Self-Development, or Humanities `Category`\n",
    "- Author: `Author`\n",
    "- ISBN code of book. '-' or 'nan' if not available `ISBN`\n",
    "- Publisher `Publisher`\n",
    "- Published date `Pub_Date`\n",
    "- Transaction Time `Order_Time`\n",
    "- Number of books in the transaction: Positive integer if purchased, and negative if refunded or cancelled. `Count`\n",
    "- Whether or not a book has been in cart: 1 if so, 0 if not `Cart`\n",
    "- Date when a book was added to cart `Cart_Date`\n",
    "- Device used to make a transaction `Device`\n",
    "- Address: `Address1` and more detailed address in `Address2`\n",
    "\n"
   ]
  },
  {
   "cell_type": "markdown",
   "metadata": {},
   "source": [
    "##3. Data Cleaning (한결)\n"
   ]
  },
  {
   "cell_type": "markdown",
   "metadata": {},
   "source": [
    "##4. Writing Book Recommender"
   ]
  },
  {
   "cell_type": "markdown",
   "metadata": {},
   "source": [
    "###4.1 Baseline Algorithm (한결)"
   ]
  },
  {
   "cell_type": "markdown",
   "metadata": {},
   "source": [
    "###4.2 kNN using book similarity\n",
    "blah blah"
   ]
  },
  {
   "cell_type": "markdown",
   "metadata": {},
   "source": [
    "###4.3 kNN (동관이)"
   ]
  },
  {
   "cell_type": "markdown",
   "metadata": {},
   "source": [
    "##5. Results"
   ]
  },
  {
   "cell_type": "code",
   "execution_count": null,
   "metadata": {
    "collapsed": true
   },
   "outputs": [],
   "source": []
  }
 ],
 "metadata": {
  "kernelspec": {
   "display_name": "Python 2",
   "language": "python",
   "name": "python2"
  },
  "language_info": {
   "codemirror_mode": {
    "name": "ipython",
    "version": 2
   },
   "file_extension": ".py",
   "mimetype": "text/x-python",
   "name": "python",
   "nbconvert_exporter": "python",
   "pygments_lexer": "ipython2",
   "version": "2.7.10"
  }
 },
 "nbformat": 4,
 "nbformat_minor": 0
}
