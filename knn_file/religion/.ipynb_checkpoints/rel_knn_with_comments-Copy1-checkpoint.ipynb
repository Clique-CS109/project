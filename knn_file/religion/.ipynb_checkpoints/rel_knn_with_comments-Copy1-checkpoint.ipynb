{
 "cells": [
  {
   "cell_type": "markdown",
   "metadata": {},
   "source": [
    "# Recommendation system using k-NN method"
   ]
  },
  {
   "cell_type": "markdown",
   "metadata": {},
   "source": [
    "On this notebook we will use the kNN method to build up a recommendation system for an online bookstore. \n",
    "\n",
    "![kNN method](knnimage.svg)\n",
    "(image link: https://commons.wikimedia.org/wiki/File%3AKnnClassification.svg)\n",
    "\n"
   ]
  },
  {
   "cell_type": "markdown",
   "metadata": {},
   "source": [
    "## 1. Initialization"
   ]
  },
  {
   "cell_type": "markdown",
   "metadata": {},
   "source": [
    "### 1.1. Import packages"
   ]
  },
  {
   "cell_type": "markdown",
   "metadata": {},
   "source": [
    "Here we import packages that would be used throughout this notebook. "
   ]
  },
  {
   "cell_type": "code",
   "execution_count": 1,
   "metadata": {
    "collapsed": false
   },
   "outputs": [],
   "source": [
    "# import basic libraries\n",
    "\n",
    "%matplotlib inline\n",
    "import numpy as np\n",
    "import scipy as sp\n",
    "import matplotlib as mpl\n",
    "import matplotlib.cm as cm\n",
    "import matplotlib.pyplot as plt\n",
    "import pandas as pd\n",
    "pd.set_option('display.width', 500)\n",
    "pd.set_option('display.max_columns', 100)\n",
    "pd.set_option('display.notebook_repr_html', True)\n",
    "import pickle\n",
    "from mpl_toolkits.mplot3d import Axes3D\n",
    "from matplotlib import cm\n",
    "import seaborn as sns\n",
    "sns.set_style(\"whitegrid\")\n",
    "sns.set_context(\"poster\")\n",
    "import json"
   ]
  },
  {
   "cell_type": "markdown",
   "metadata": {},
   "source": [
    "Here we are supposed to load Spark libraries to make files used for grid search and verification. But as we will import and use precalculated ones, we just comment this cell."
   ]
  },
  {
   "cell_type": "code",
   "execution_count": 2,
   "metadata": {
    "collapsed": false
   },
   "outputs": [],
   "source": [
    "# import libraries for Spark and initialize it\n",
    "\n",
    "# import findspark\n",
    "# findspark.init()\n",
    "# print findspark.find()\n",
    "# import pyspark\n",
    "\n",
    "# conf=pyspark.SparkConf().setAppName('pyspark').setMaster('local[4]').set(\"spark.executor.memory\", \"4g\")\n",
    "# sc = pyspark.SparkContext(conf=conf)"
   ]
  },
  {
   "cell_type": "markdown",
   "metadata": {},
   "source": [
    "### 1.2. Data import and refinement"
   ]
  },
  {
   "cell_type": "markdown",
   "metadata": {},
   "source": [
    "Here we import data to be used later. All the data are assimilated from another notebook. In order to use data from each category, just change the file names below."
   ]
  },
  {
   "cell_type": "code",
   "execution_count": 3,
   "metadata": {
    "collapsed": true
   },
   "outputs": [],
   "source": [
    "# data import\n",
    "VAL_NUM=4\n",
    "TEST_NUM=3\n",
    "\n",
    "traindf = pd.read_csv(\"Rel_train.csv\", dtype={'ISBN':np.str, 'ID':np.str, 'Date':np.str, 'Pub_Date':np.str, 'Cart_Date':np.str})\n",
    "validatedf = pd.read_csv(\"Rel_validate.csv\", dtype={'ISBN':np.str,'ID':np.str, 'Date':np.str,'Pub_Date':np.str,'Cart_Date':np.str})\n",
    "testdf = pd.read_csv(\"Rel_test.csv\", dtype={'ISBN':np.str,'ID':np.str,'Date':np.str,'Pub_Date':np.str,'Cart_Date':np.str})"
   ]
  },
  {
   "cell_type": "markdown",
   "metadata": {},
   "source": [
    "We make two more dataframes, `tr_va_df` and `alldf`, to be used later."
   ]
  },
  {
   "cell_type": "code",
   "execution_count": 4,
   "metadata": {
    "collapsed": true
   },
   "outputs": [],
   "source": [
    "# tr_va_df is used for testing\n",
    "tr_va_df =pd.concat([traindf, validatedf])\n",
    "# alldf is used for the final result\n",
    "alldf=pd.concat([traindf, validatedf, testdf])"
   ]
  },
  {
   "cell_type": "code",
   "execution_count": 5,
   "metadata": {
    "collapsed": false
   },
   "outputs": [
    {
     "name": "stdout",
     "output_type": "stream",
     "text": [
      "(10394, 18) (1268, 18) (951, 18) (11662, 18) (12613, 18)\n"
     ]
    },
    {
     "data": {
      "text/html": [
       "<div>\n",
       "<table border=\"1\" class=\"dataframe\">\n",
       "  <thead>\n",
       "    <tr style=\"text-align: right;\">\n",
       "      <th></th>\n",
       "      <th>Title</th>\n",
       "      <th>ID</th>\n",
       "      <th>Date</th>\n",
       "      <th>Class</th>\n",
       "      <th>Category</th>\n",
       "      <th>Author</th>\n",
       "      <th>ISBN</th>\n",
       "      <th>Publisher</th>\n",
       "      <th>Pub_Date</th>\n",
       "      <th>Order_Time</th>\n",
       "      <th>Count</th>\n",
       "      <th>Cart</th>\n",
       "      <th>Cart_Date</th>\n",
       "      <th>Device</th>\n",
       "      <th>Address1</th>\n",
       "      <th>Address2</th>\n",
       "      <th>user_purchase_count</th>\n",
       "      <th>book_sell_count</th>\n",
       "    </tr>\n",
       "  </thead>\n",
       "  <tbody>\n",
       "    <tr>\n",
       "      <th>0</th>\n",
       "      <td>파스칼의 팡세</td>\n",
       "      <td>299</td>\n",
       "      <td>20141218</td>\n",
       "      <td>주문</td>\n",
       "      <td>종교</td>\n",
       "      <td>&lt;블레즈 파스칼&gt; 저/&lt;조병준&gt; 역</td>\n",
       "      <td>9788998003111</td>\n",
       "      <td>샘솟는기쁨</td>\n",
       "      <td>20140526.0</td>\n",
       "      <td>19</td>\n",
       "      <td>1</td>\n",
       "      <td>N</td>\n",
       "      <td>NaN</td>\n",
       "      <td>기기PID_PC</td>\n",
       "      <td>경상북도</td>\n",
       "      <td>안동시</td>\n",
       "      <td>1</td>\n",
       "      <td>3</td>\n",
       "    </tr>\n",
       "    <tr>\n",
       "      <th>1</th>\n",
       "      <td>내 안의 죄 죽이기</td>\n",
       "      <td>736</td>\n",
       "      <td>20140603</td>\n",
       "      <td>주문</td>\n",
       "      <td>종교</td>\n",
       "      <td>&lt;존 오웬&gt; 저/&lt;김창대&gt; 역</td>\n",
       "      <td>9788993239898</td>\n",
       "      <td>브니엘</td>\n",
       "      <td>20140211.0</td>\n",
       "      <td>21</td>\n",
       "      <td>1</td>\n",
       "      <td>N</td>\n",
       "      <td>NaN</td>\n",
       "      <td>기기PID_PC</td>\n",
       "      <td>충청남도</td>\n",
       "      <td>당진시</td>\n",
       "      <td>1</td>\n",
       "      <td>4</td>\n",
       "    </tr>\n",
       "    <tr>\n",
       "      <th>2</th>\n",
       "      <td>전능자의 그늘</td>\n",
       "      <td>937</td>\n",
       "      <td>20140912</td>\n",
       "      <td>주문</td>\n",
       "      <td>종교</td>\n",
       "      <td>&lt;엘리자베스 엘리엇&gt; 저/&lt;윤종석&gt; 역</td>\n",
       "      <td>9788990353870</td>\n",
       "      <td>복있는사람</td>\n",
       "      <td>20080630.0</td>\n",
       "      <td>22</td>\n",
       "      <td>1</td>\n",
       "      <td>N</td>\n",
       "      <td>NaN</td>\n",
       "      <td>기기PID_PC</td>\n",
       "      <td>경기도</td>\n",
       "      <td>포천시</td>\n",
       "      <td>2</td>\n",
       "      <td>4</td>\n",
       "    </tr>\n",
       "    <tr>\n",
       "      <th>3</th>\n",
       "      <td>gods at war 거짓신들의 전쟁</td>\n",
       "      <td>937</td>\n",
       "      <td>20140912</td>\n",
       "      <td>주문</td>\n",
       "      <td>종교</td>\n",
       "      <td>&lt;카일 아이들먼&gt; 저/&lt;배응준&gt; 역</td>\n",
       "      <td>9788960972971</td>\n",
       "      <td>규장</td>\n",
       "      <td>20130227.0</td>\n",
       "      <td>22</td>\n",
       "      <td>1</td>\n",
       "      <td>N</td>\n",
       "      <td>NaN</td>\n",
       "      <td>기기PID_PC</td>\n",
       "      <td>경기도</td>\n",
       "      <td>포천시</td>\n",
       "      <td>2</td>\n",
       "      <td>4</td>\n",
       "    </tr>\n",
       "    <tr>\n",
       "      <th>4</th>\n",
       "      <td>무정부주의와 기독교</td>\n",
       "      <td>1007</td>\n",
       "      <td>20140901</td>\n",
       "      <td>주문</td>\n",
       "      <td>종교</td>\n",
       "      <td>&lt;자끄 엘륄&gt; 저/&lt;이창헌&gt; 역</td>\n",
       "      <td>9788970712321</td>\n",
       "      <td>대장간</td>\n",
       "      <td>20111027.0</td>\n",
       "      <td>17</td>\n",
       "      <td>1</td>\n",
       "      <td>N</td>\n",
       "      <td>NaN</td>\n",
       "      <td>기기PID_PC</td>\n",
       "      <td>경기도</td>\n",
       "      <td>의정부시</td>\n",
       "      <td>2</td>\n",
       "      <td>1</td>\n",
       "    </tr>\n",
       "  </tbody>\n",
       "</table>\n",
       "</div>"
      ],
      "text/plain": [
       "                  Title    ID      Date Class Category                 Author           ISBN Publisher    Pub_Date  Order_Time  Count Cart Cart_Date    Device Address1 Address2  user_purchase_count  book_sell_count\n",
       "0               파스칼의 팡세   299  20141218    주문       종교    <블레즈 파스칼> 저/<조병준> 역  9788998003111     샘솟는기쁨  20140526.0          19      1    N       NaN  기기PID_PC     경상북도      안동시                    1                3\n",
       "1            내 안의 죄 죽이기   736  20140603    주문       종교       <존 오웬> 저/<김창대> 역  9788993239898       브니엘  20140211.0          21      1    N       NaN  기기PID_PC     충청남도      당진시                    1                4\n",
       "2               전능자의 그늘   937  20140912    주문       종교  <엘리자베스 엘리엇> 저/<윤종석> 역  9788990353870     복있는사람  20080630.0          22      1    N       NaN  기기PID_PC      경기도      포천시                    2                4\n",
       "3  gods at war 거짓신들의 전쟁   937  20140912    주문       종교    <카일 아이들먼> 저/<배응준> 역  9788960972971        규장  20130227.0          22      1    N       NaN  기기PID_PC      경기도      포천시                    2                4\n",
       "4            무정부주의와 기독교  1007  20140901    주문       종교      <자끄 엘륄> 저/<이창헌> 역  9788970712321       대장간  20111027.0          17      1    N       NaN  기기PID_PC      경기도     의정부시                    2                1"
      ]
     },
     "execution_count": 5,
     "metadata": {},
     "output_type": "execute_result"
    }
   ],
   "source": [
    "print traindf.shape, validatedf.shape, testdf.shape, tr_va_df.shape, alldf.shape\n",
    "traindf.head()"
   ]
  },
  {
   "cell_type": "markdown",
   "metadata": {},
   "source": [
    "Each book has its unique ISBN, thus in order to identify each book it is better to use ISBNs than titles. For example, '오만과 편견' ('Pride and Prejudice') by Jane Austin has several versions with different ISBN, with which we want to deal separately."
   ]
  },
  {
   "cell_type": "code",
   "execution_count": 6,
   "metadata": {
    "collapsed": false
   },
   "outputs": [
    {
     "name": "stdout",
     "output_type": "stream",
     "text": [
      "[]\n"
     ]
    }
   ],
   "source": [
    "print traindf[traindf['Title']=='오만과 편견'].ISBN.unique()"
   ]
  },
  {
   "cell_type": "markdown",
   "metadata": {},
   "source": [
    "However, there is a problem if we use ISBNs. If we look at the data we notice that there are some ISBNs with 2 titles as follows."
   ]
  },
  {
   "cell_type": "code",
   "execution_count": 7,
   "metadata": {
    "collapsed": false
   },
   "outputs": [
    {
     "data": {
      "text/plain": [
       "ISBN\n",
       "9788936502096                            [인간의 일생, [염가한정판매] 인간의 일생]\n",
       "9788941913153      [교부들의 성경 주해 신약성경 6, [염가한정판매] 교부들의 성경 주해 신약성경 6]\n",
       "9788976777324                      [[염가한정판매] 기도 Prayer, 기도 Prayer]\n",
       "9788992871778    [스트롱 코드성경 개역개정(특중,단본,무지퍼,히·헬 원어사전)(14.0 * 20.0...\n",
       "9791185248080                              [[염가한정판매] 갈라디아서, 갈라디아서]\n",
       "Name: Title, dtype: object"
      ]
     },
     "execution_count": 7,
     "metadata": {},
     "output_type": "execute_result"
    }
   ],
   "source": [
    "title_for_each_ISBN=traindf.groupby('ISBN').Title.unique()\n",
    "title_for_each_ISBN[title_for_each_ISBN.apply(lambda x: len(x)>1)].head()"
   ]
  },
  {
   "cell_type": "markdown",
   "metadata": {},
   "source": [
    "It is because there are some titles that start with '[염가한정판매]', which means the book is discounted for limited time. Since it is still the same book, we simply remove '[염가한정판매]' from each title."
   ]
  },
  {
   "cell_type": "code",
   "execution_count": 8,
   "metadata": {
    "collapsed": false
   },
   "outputs": [],
   "source": [
    "# delete [염가한정판매] from title\n",
    "# Input : dataframe\n",
    "# Output: same dataframe with [염가한정판매] removed from each title\n",
    "\n",
    "def del_yeomga(df):\n",
    "    resdf=df.copy()\n",
    "    title_series=resdf['Title'].apply(lambda r: r if r[:21]!='[염가한정판매] ' else r[21:])\n",
    "    resdf['Title']=title_series\n",
    "    return resdf\n",
    "\n",
    "traindf   =del_yeomga(traindf)\n",
    "validatedf=del_yeomga(validatedf)\n",
    "testdf    =del_yeomga(testdf)\n",
    "tr_va_df  =del_yeomga(tr_va_df)\n",
    "alldf     =del_yeomga(alldf)"
   ]
  },
  {
   "cell_type": "markdown",
   "metadata": {},
   "source": [
    "Now we drop multiple transactions with the same user and ISBN. It means that even if a customer buy the same books several times we consider it as a single transaction. It is because what we want to know is whether a customer likes a book enough to buy it; how many he/she buys the book is not important. By the same reason we will not use `Count` column too."
   ]
  },
  {
   "cell_type": "code",
   "execution_count": 9,
   "metadata": {
    "collapsed": false
   },
   "outputs": [],
   "source": [
    "# drop duplicates - We will NOT use \"Count\" column\n",
    "traindf   =traindf.drop_duplicates(['ID','ISBN'])\n",
    "validatedf=validatedf.drop_duplicates(['ID','ISBN'])\n",
    "testdf    =testdf.drop_duplicates(['ID','ISBN'])\n",
    "tr_va_df  =tr_va_df.drop_duplicates(['ID','ISBN'])\n",
    "alldf     =alldf.drop_duplicates(['ID','ISBN'])"
   ]
  },
  {
   "cell_type": "markdown",
   "metadata": {},
   "source": [
    "If an ISBN is not given, then we simply drop it."
   ]
  },
  {
   "cell_type": "code",
   "execution_count": 10,
   "metadata": {
    "collapsed": false
   },
   "outputs": [
    {
     "data": {
      "text/plain": [
       "(28, 18)"
      ]
     },
     "execution_count": 10,
     "metadata": {},
     "output_type": "execute_result"
    }
   ],
   "source": [
    "alldf[pd.isnull(alldf['ISBN'])].shape"
   ]
  },
  {
   "cell_type": "code",
   "execution_count": 11,
   "metadata": {
    "collapsed": false
   },
   "outputs": [],
   "source": [
    "# drop if ISBN is not given\n",
    "traindf   =traindf[~pd.isnull(traindf['ISBN'])]\n",
    "validatedf=validatedf[~pd.isnull(validatedf['ISBN'])]\n",
    "testdf    =testdf[~pd.isnull(testdf['ISBN'])]\n",
    "tr_va_df  =tr_va_df[~pd.isnull(tr_va_df['ISBN'])]\n",
    "alldf     =alldf[~pd.isnull(alldf['ISBN'])]"
   ]
  },
  {
   "cell_type": "code",
   "execution_count": 12,
   "metadata": {
    "collapsed": false
   },
   "outputs": [
    {
     "data": {
      "text/plain": [
       "(0, 18)"
      ]
     },
     "execution_count": 12,
     "metadata": {},
     "output_type": "execute_result"
    }
   ],
   "source": [
    "alldf[pd.isnull(alldf['ISBN'])].shape"
   ]
  },
  {
   "cell_type": "markdown",
   "metadata": {},
   "source": [
    "Now we extract columns which will be used later. (Actually `Category`, `Author`, `Publisher` columns are not needed for the algorithm, but if we want to show recommended books they would be useful.)"
   ]
  },
  {
   "cell_type": "code",
   "execution_count": 13,
   "metadata": {
    "collapsed": true
   },
   "outputs": [],
   "source": [
    "traindf   =traindf[['Title','ID','Category','Author','ISBN', 'Publisher']]\n",
    "validatedf=validatedf[['Title','ID','Category','Author','ISBN', 'Publisher']]\n",
    "testdf    =testdf[['Title','ID','Category','Author','ISBN', 'Publisher']]\n",
    "tr_va_df  =tr_va_df[['Title','ID','Category','Author','ISBN', 'Publisher']]\n",
    "alldf     =alldf[['Title','ID','Category','Author','ISBN', 'Publisher']]"
   ]
  },
  {
   "cell_type": "code",
   "execution_count": 14,
   "metadata": {
    "collapsed": false
   },
   "outputs": [
    {
     "data": {
      "text/html": [
       "<div>\n",
       "<table border=\"1\" class=\"dataframe\">\n",
       "  <thead>\n",
       "    <tr style=\"text-align: right;\">\n",
       "      <th></th>\n",
       "      <th>Title</th>\n",
       "      <th>ID</th>\n",
       "      <th>Category</th>\n",
       "      <th>Author</th>\n",
       "      <th>ISBN</th>\n",
       "      <th>Publisher</th>\n",
       "    </tr>\n",
       "  </thead>\n",
       "  <tbody>\n",
       "    <tr>\n",
       "      <th>0</th>\n",
       "      <td>파스칼의 팡세</td>\n",
       "      <td>299</td>\n",
       "      <td>종교</td>\n",
       "      <td>&lt;블레즈 파스칼&gt; 저/&lt;조병준&gt; 역</td>\n",
       "      <td>9788998003111</td>\n",
       "      <td>샘솟는기쁨</td>\n",
       "    </tr>\n",
       "    <tr>\n",
       "      <th>1</th>\n",
       "      <td>내 안의 죄 죽이기</td>\n",
       "      <td>736</td>\n",
       "      <td>종교</td>\n",
       "      <td>&lt;존 오웬&gt; 저/&lt;김창대&gt; 역</td>\n",
       "      <td>9788993239898</td>\n",
       "      <td>브니엘</td>\n",
       "    </tr>\n",
       "    <tr>\n",
       "      <th>2</th>\n",
       "      <td>전능자의 그늘</td>\n",
       "      <td>937</td>\n",
       "      <td>종교</td>\n",
       "      <td>&lt;엘리자베스 엘리엇&gt; 저/&lt;윤종석&gt; 역</td>\n",
       "      <td>9788990353870</td>\n",
       "      <td>복있는사람</td>\n",
       "    </tr>\n",
       "    <tr>\n",
       "      <th>3</th>\n",
       "      <td>gods at war 거짓신들의 전쟁</td>\n",
       "      <td>937</td>\n",
       "      <td>종교</td>\n",
       "      <td>&lt;카일 아이들먼&gt; 저/&lt;배응준&gt; 역</td>\n",
       "      <td>9788960972971</td>\n",
       "      <td>규장</td>\n",
       "    </tr>\n",
       "    <tr>\n",
       "      <th>4</th>\n",
       "      <td>무정부주의와 기독교</td>\n",
       "      <td>1007</td>\n",
       "      <td>종교</td>\n",
       "      <td>&lt;자끄 엘륄&gt; 저/&lt;이창헌&gt; 역</td>\n",
       "      <td>9788970712321</td>\n",
       "      <td>대장간</td>\n",
       "    </tr>\n",
       "  </tbody>\n",
       "</table>\n",
       "</div>"
      ],
      "text/plain": [
       "                  Title    ID Category                 Author           ISBN Publisher\n",
       "0               파스칼의 팡세   299       종교    <블레즈 파스칼> 저/<조병준> 역  9788998003111     샘솟는기쁨\n",
       "1            내 안의 죄 죽이기   736       종교       <존 오웬> 저/<김창대> 역  9788993239898       브니엘\n",
       "2               전능자의 그늘   937       종교  <엘리자베스 엘리엇> 저/<윤종석> 역  9788990353870     복있는사람\n",
       "3  gods at war 거짓신들의 전쟁   937       종교    <카일 아이들먼> 저/<배응준> 역  9788960972971        규장\n",
       "4            무정부주의와 기독교  1007       종교      <자끄 엘륄> 저/<이창헌> 역  9788970712321       대장간"
      ]
     },
     "execution_count": 14,
     "metadata": {},
     "output_type": "execute_result"
    }
   ],
   "source": [
    "traindf.head()"
   ]
  },
  {
   "cell_type": "markdown",
   "metadata": {},
   "source": [
    "## 2. Preparation Step"
   ]
  },
  {
   "cell_type": "markdown",
   "metadata": {},
   "source": [
    "### 2.1. Precalculation and its corresponding functions"
   ]
  },
  {
   "cell_type": "markdown",
   "metadata": {},
   "source": [
    "Here we calculate variables used for grid-search and recommendation. One of the benefits to calculate them in advance is that it reduces time for grid-search, which may take hours or even days."
   ]
  },
  {
   "cell_type": "markdown",
   "metadata": {},
   "source": [
    "The following `make_vec` function is to make an indicator vector where a pair of (sublist, list) is given. For example, if we are given $([a, b, d], [a, b, c, d, e])$ then the result will be $[True, True, False, True, False]$."
   ]
  },
  {
   "cell_type": "code",
   "execution_count": 15,
   "metadata": {
    "collapsed": true
   },
   "outputs": [],
   "source": [
    "# for given items which is a subset of total, return the mask vector corresponding to the positions of items\n",
    "# Input : items: a list of some books or customers\n",
    "#         total: a list of all books or customers\n",
    "# Output: True/False vector with True in the positions corresponding to the given \"items\"\n",
    "\n",
    "def make_vec(items,total):\n",
    "    res=np.zeros(len(total), dtype=bool)\n",
    "    for i in items:\n",
    "        res[np.argwhere(total==i)[0][0]]=True\n",
    "    return res"
   ]
  },
  {
   "cell_type": "markdown",
   "metadata": {},
   "source": [
    "`compute_support_for_book` makes the dictionary where each key is an ISBN and its value is the vector which corresponds to the buyers of the book with respect to the whole customers. `compute_supports_for_customer` is similar, here each key is a customer and its value is the vector which corresponds to the books he/she bought with respect to the whole books."
   ]
  },
  {
   "cell_type": "code",
   "execution_count": 16,
   "metadata": {
    "collapsed": true
   },
   "outputs": [],
   "source": [
    "# for all books, make a list of vectors of customers who bought each book\n",
    "# Input : dataframe\n",
    "# Output: dictionary of the form \"ISBN: its support vector with respect to customers who bought it\"\n",
    "\n",
    "def compute_supports_for_book(df):\n",
    "    IDs=df.ID.unique()\n",
    "    gb_ISBN = df.groupby('ISBN').ID.unique()\n",
    "    res={}\n",
    "    for e,v in zip(gb_ISBN.index.values, gb_ISBN.values):\n",
    "        res[e] = make_vec(v,IDs)\n",
    "    return res\n",
    "\n",
    "# for all customers, make a list of vectors of books that each customer bought\n",
    "# Input : dataframe\n",
    "# Output: dictionary of the form \"User ID: its support vector with respect to books that they bought\"\n",
    "\n",
    "def compute_supports_for_customer(df):\n",
    "    ISBNs = df.ISBN.unique()\n",
    "    gb_ID = df.groupby('ID').ISBN.unique()\n",
    "    res={}\n",
    "    for e,v in zip(gb_ID.index.values, gb_ID.values):\n",
    "        res[e] = make_vec(v,ISBNs)\n",
    "    return res"
   ]
  },
  {
   "cell_type": "markdown",
   "metadata": {},
   "source": [
    "Using these functions above, we calculate each dictionary for `traindf`, `tr_va_df`, `alldf`. Usually it takes less than 3 minutes."
   ]
  },
  {
   "cell_type": "code",
   "execution_count": 17,
   "metadata": {
    "collapsed": false
   },
   "outputs": [
    {
     "name": "stdout",
     "output_type": "stream",
     "text": [
      "CPU times: user 2.25 s, sys: 34.9 ms, total: 2.28 s\n",
      "Wall time: 2.55 s\n",
      "found supports from train dataframe\n",
      "CPU times: user 2.62 s, sys: 37.8 ms, total: 2.66 s\n",
      "Wall time: 3.06 s\n",
      "found supports from train and validation dataframe\n",
      "CPU times: user 2.88 s, sys: 44.7 ms, total: 2.93 s\n",
      "Wall time: 3.36 s\n",
      "found supports from all dataframe\n"
     ]
    }
   ],
   "source": [
    "# calculate corresponding supports\n",
    "\n",
    "%time found_supports=compute_supports_for_customer(traindf)\n",
    "print 'found supports from train dataframe'\n",
    "\n",
    "%time found_supports_w_val=compute_supports_for_customer(tr_va_df)\n",
    "print 'found supports from train and validation dataframe'\n",
    "\n",
    "%time found_supports_all=compute_supports_for_customer(alldf)\n",
    "print 'found supports from all dataframe'"
   ]
  },
  {
   "cell_type": "markdown",
   "metadata": {},
   "source": [
    "This function calculates the proportion of transactions of each book with respect to the whole transactions."
   ]
  },
  {
   "cell_type": "code",
   "execution_count": 18,
   "metadata": {
    "collapsed": true
   },
   "outputs": [],
   "source": [
    "# given dataframe, return a dictionary of proportion of each book among all the books\n",
    "# Input : dataframe\n",
    "# Output: dictionary of the form \"ISBN: its proportion among all the books\"\n",
    "\n",
    "def get_allbooks_prob(df):\n",
    "    temp=df.groupby('ISBN').ID.unique().apply(len)\n",
    "    return dict(temp.apply(lambda r: r*1./temp.sum()))"
   ]
  },
  {
   "cell_type": "markdown",
   "metadata": {},
   "source": [
    "As before we calculate each dictionary for `traindf`, `tr_va_df`, `alldf`."
   ]
  },
  {
   "cell_type": "code",
   "execution_count": 19,
   "metadata": {
    "collapsed": false
   },
   "outputs": [],
   "source": [
    "# calculate proportion of each book on the whole data\n",
    "\n",
    "allbooks_prob=get_allbooks_prob(traindf)\n",
    "allbooks_prob_w_val=get_allbooks_prob(tr_va_df)\n",
    "allbooks_prob_all=get_allbooks_prob(alldf)"
   ]
  },
  {
   "cell_type": "markdown",
   "metadata": {},
   "source": [
    "We also define the dictionary where each user is the key and its value is the set of books he/she bought."
   ]
  },
  {
   "cell_type": "code",
   "execution_count": 20,
   "metadata": {
    "collapsed": false
   },
   "outputs": [],
   "source": [
    "# the set of bought books for each customer\n",
    "\n",
    "train_bought_set=dict(traindf.groupby('ID').ISBN.unique().apply(set))\n",
    "validate_bought_set=dict(validatedf.groupby('ID').ISBN.unique().apply(set))\n",
    "test_bought_set=dict(testdf.groupby('ID').ISBN.unique().apply(set))\n",
    "tr_va_bought_set=dict(tr_va_df.groupby('ID').ISBN.unique().apply(set))\n",
    "all_bought_set=dict(alldf.groupby('ID').ISBN.unique().apply(set))"
   ]
  },
  {
   "cell_type": "markdown",
   "metadata": {},
   "source": [
    "The following function is to calculate similarity for each pair of users. If a dataframe and a user are given, it returns a list of tuples (user, the similarity value of the given user and this user) sorted by similarity values. Here we use cosine similarity. Note that the data we are dealing with is sparse, i.e. the set of books each user bought is very small compared to the whole books. Thus if we use cosine similarity the computation cost is relatively smaller than other methods, e.g. Pearson correlation. More precisely, the similarity value is defined as follows.\n",
    "\n",
    "\n",
    "$$sim(u_1, u_2) = \\frac{\\text{the number of books that $u_1, u_2$ both bought}}{\\sqrt{(\\text{the number of books that $u_1$ bought})(\\text{the number of books that $u_2$ bought})}}$$\n",
    "\n",
    "If the numerator is zero, then we define it to be zero regardless of whether or not the denominator is also zero."
   ]
  },
  {
   "cell_type": "code",
   "execution_count": 21,
   "metadata": {
    "collapsed": true
   },
   "outputs": [],
   "source": [
    "# given dataframe and userid, return the dictionary of similarity values\n",
    "# here we used the cosine value as the similarity value\n",
    "# Input : dataframe and user id\n",
    "# Output: SORTED list of tuples (User ID of another user, similarity value) if the value is NOT zero\n",
    "\n",
    "def get_sim(df, cid):\n",
    "    clist=set(df[df.ID==cid].ISBN.unique())\n",
    "    res={}\n",
    "    sup_num=len(clist)\n",
    "    \n",
    "    if sup_num==0:\n",
    "        return []\n",
    "    \n",
    "    for i, v in df.groupby('ID').ISBN.unique().iteritems():\n",
    "        if i != cid:\n",
    "            int_num=len(clist.intersection(set(v)))\n",
    "            if int_num !=0:\n",
    "                res[i]=int_num*1./(np.sqrt(sup_num*len(set(v))))\n",
    "    \n",
    "    res_transform = [(j,res[j]) for j in sorted(res, key=res.get, reverse=True)]\n",
    "    \n",
    "    return res_transform"
   ]
  },
  {
   "cell_type": "markdown",
   "metadata": {},
   "source": [
    "Now we are supposed to get the dictionary where keys are user IDs and values are lists of tuples as described above. Also we need to get one from each dataframe. However, it takes a lot of time (~30 min for each,) so we will use the precalculated results stored in files. Note that when the files were made (see commented cells) we used Spark to reduce processing time."
   ]
  },
  {
   "cell_type": "code",
   "execution_count": 22,
   "metadata": {
    "collapsed": false
   },
   "outputs": [
    {
     "name": "stdout",
     "output_type": "stream",
     "text": [
      "CPU times: user 393 ms, sys: 13.5 ms, total: 406 ms\n",
      "Wall time: 462 ms\n"
     ]
    }
   ],
   "source": [
    "%%time\n",
    "# calculate similarity dictionary from train data\n",
    "\n",
    "with open('sim_dict.pkl', 'rb') as fp:\n",
    "    sim_dict=pickle.load(fp)"
   ]
  },
  {
   "cell_type": "code",
   "execution_count": 23,
   "metadata": {
    "collapsed": false
   },
   "outputs": [],
   "source": [
    "# %%time\n",
    "# sim_dict=dict(sc.parallelize(validatedf.ID.unique(),4).map(lambda r: (r,get_sim(traindf,r))).collect())"
   ]
  },
  {
   "cell_type": "code",
   "execution_count": 24,
   "metadata": {
    "collapsed": true
   },
   "outputs": [],
   "source": [
    "# with open('sim_dict.pkl', 'wb') as fp:\n",
    "#     pickle.dump(sim_dict,fp)"
   ]
  },
  {
   "cell_type": "code",
   "execution_count": 25,
   "metadata": {
    "collapsed": false
   },
   "outputs": [
    {
     "name": "stdout",
     "output_type": "stream",
     "text": [
      "CPU times: user 638 ms, sys: 15.3 ms, total: 653 ms\n",
      "Wall time: 746 ms\n"
     ]
    }
   ],
   "source": [
    "%%time\n",
    "# calculate similarity dictionary from train and validate data\n",
    "\n",
    "with open('sim_dict_w_val.pkl', 'rb') as fp:\n",
    "    sim_dict_w_val=pickle.load(fp)"
   ]
  },
  {
   "cell_type": "code",
   "execution_count": 26,
   "metadata": {
    "collapsed": false
   },
   "outputs": [],
   "source": [
    "# %%time\n",
    "# sim_dict_w_val=dict(sc.parallelize(testdf.ID.unique(),4).map(lambda r: (r,get_sim(tr_va_df,r))).collect())"
   ]
  },
  {
   "cell_type": "code",
   "execution_count": 27,
   "metadata": {
    "collapsed": true
   },
   "outputs": [],
   "source": [
    "# with open('sim_dict_w_val.pkl', 'wb') as fp:\n",
    "#     pickle.dump(sim_dict_w_val,fp)"
   ]
  },
  {
   "cell_type": "code",
   "execution_count": 28,
   "metadata": {
    "collapsed": false
   },
   "outputs": [
    {
     "name": "stdout",
     "output_type": "stream",
     "text": [
      "CPU times: user 854 ms, sys: 22.2 ms, total: 876 ms\n",
      "Wall time: 1.2 s\n"
     ]
    }
   ],
   "source": [
    "%%time\n",
    "# calculate similarity dictionary from all data\n",
    "\n",
    "with open('sim_dict_all.pkl', 'rb') as fp:\n",
    "    sim_dict_all=pickle.load(fp)"
   ]
  },
  {
   "cell_type": "code",
   "execution_count": 29,
   "metadata": {
    "collapsed": false
   },
   "outputs": [],
   "source": [
    "# %%time\n",
    "# sim_dict_all=dict(sc.parallelize(testdf.ID.unique(),4).map(lambda r: (r,get_sim(alldf,r))).collect())"
   ]
  },
  {
   "cell_type": "code",
   "execution_count": 30,
   "metadata": {
    "collapsed": true
   },
   "outputs": [],
   "source": [
    "# with open('sim_dict_all.pkl', 'wb') as fp:\n",
    "#     pickle.dump(sim_dict_all,fp)"
   ]
  },
  {
   "cell_type": "markdown",
   "metadata": {},
   "source": [
    "### 2.2. \"The main function\""
   ]
  },
  {
   "cell_type": "markdown",
   "metadata": {},
   "source": [
    "This is the main function for kNN method we use. It takes (dataframe, a list of tuples (user ID, similarity value), a dictionary of support vectors with respect to users, k for kNN method) as the input. Then the result is a dictionary where keys are ISBNs and values are scores of books for each user. The score for given book $b$ and user $u$ is defined as follows.\n",
    "\n",
    "$$score(b, u) = \\sum_{\\substack{u'\\neq u \\\\u' \\text{ bought } b}} \\frac{sim(u, u')}{\\sqrt{\\text{the number of books that $u'$ bought}}}$$\n",
    "\n",
    "Its heuristic meaning is that contribution to the score by each user should be proportional to the similarity value but inversely proportional to (the square of) the number of books he/she bought. For example, if someone bought thousands of books, then each book might not be much valuable to this customer. However, if someone bought only 2 books, then each book would be much more valuable."
   ]
  },
  {
   "cell_type": "code",
   "execution_count": 31,
   "metadata": {
    "collapsed": true
   },
   "outputs": [],
   "source": [
    "# get the result from the dictionary of similarity values\n",
    "# here weight is defined by \"sim_value*support_vector/||support_vector||\"; please read the document\n",
    "\n",
    "# Input : df: dataframe\n",
    "#         knn_dist: SORTED list of tuples (user ID, sim_value)\n",
    "#         found_supports: dictionary of the form \"User ID: corresponding support vector\n",
    "#         k: k for k-NN, default=5\n",
    "# Output: dictionary of the form \"ISBN: its corresponding weight for recommendation\"\n",
    "\n",
    "\n",
    "def get_result(df, knn_dist, found_supports, k=5):\n",
    "    knn=knn_dist[:k]\n",
    "    res=np.zeros(len(df.ISBN.unique()))\n",
    "    for (i,j) in knn:\n",
    "        res+=found_supports[i]*j/np.sqrt(np.sum(found_supports[i]))\n",
    "    return {k:v for (k,v) in zip(df.ISBN.unique(),res)}"
   ]
  },
  {
   "cell_type": "markdown",
   "metadata": {},
   "source": [
    "## 3. Grid-search"
   ]
  },
  {
   "cell_type": "markdown",
   "metadata": {},
   "source": [
    "We will use two different method for recommendation. The first one is to use kNN method; we defined a score for each user and book, and we recommend books with highest scores. But we need to find the best k, which we will do by grid-search on the validation data.\n",
    "\n",
    "There is another method; we calculated the proportion of transactions of each book with respect to the whole transactions. It represents the popularity of each book and the most naïve method (except random recommendation...) would be to recommend the most popular books. It is very week *per se*, but what if we mix it with the kNN method? If we add the previous score to the popularity, then wouldn't it be better? For that, we need to choose the weight of the score added to the popularity. For example, if the weight is zero then we depend only on the popularity of each book. On the other hand if the weight is $\\infty$ then we only use kNN method. For this weight, we will also use grid-search on the validation data."
   ]
  },
  {
   "cell_type": "markdown",
   "metadata": {},
   "source": [
    "### 3.1. Grid-search function"
   ]
  },
  {
   "cell_type": "markdown",
   "metadata": {},
   "source": [
    "Here we define grid-search functions for k and weight as described above. Note that if weight is fixed by a sufficiently large number, then it can also be used for grid-serach to find k only. Also we will choose 5 books of highest scores and compare them with the validation data, even though there might be more or less than 5 books for each user in the validation data. It turned out that the results are almost the same if the number of books we choose is reasonably similar to that in the validation data, say 4~7. Also it is consistent with the current system of YES24."
   ]
  },
  {
   "cell_type": "code",
   "execution_count": 32,
   "metadata": {
    "collapsed": false
   },
   "outputs": [],
   "source": [
    "# grid search for each user\n",
    "# Input : df: dataframe\n",
    "#         testset: test set which we wish to predict\n",
    "#         iter_k: range of k\n",
    "#         iter_p: range of p\n",
    "#         found_supports: dictionary of the form \"User ID: corresponding support vector\n",
    "#         allbooks_prob: dictionary of the form \"ISBN: its proportion to the whole books\"\n",
    "#         knn_dist: SORTED list of tuples (user ID, sim_value)\n",
    "#         user_bought: list of books the user already bought\n",
    "#         all_grid_data: the data we already have from the previous grid search\n",
    "# Output: dictionary of the form \"(k,p): the number of books we correctly predicted\"\n",
    "#         If (k,p) was already in all_grid_data, it has the value -1\n",
    "\n",
    "\n",
    "def do_grid_search(df, testset, iter_k, iter_p, found_supports, allbooks_prob, knn_dist, user_bought, all_grid_data, num):\n",
    "    numlist={}\n",
    "    for k in iter_k:\n",
    "        knnresult=get_result(df, knn_dist, found_supports,k=k)\n",
    "        for p in iter_p:\n",
    "            res={book:(allbooks_prob[book]+knnresult[book]*p) for book in df.ISBN.unique() if book not in user_bought}\n",
    "            numlist[(k,p)]=len(set(sorted(res, key=res.get, reverse=True)[:num]).intersection(testset))\n",
    "    return numlist"
   ]
  },
  {
   "cell_type": "markdown",
   "metadata": {},
   "source": [
    "This function is to plot the result of each grid-search."
   ]
  },
  {
   "cell_type": "code",
   "execution_count": 33,
   "metadata": {
    "collapsed": false
   },
   "outputs": [],
   "source": [
    "# plot the result of grid search\n",
    "# Input : the result of the grid search, range of k, range of p, mode(choose which plot to draw)\n",
    "# Output: None (it draws the corresponding plot)\n",
    "\n",
    "def plot_grid_result(plotdata, iter_k, iter_p, mode=False):\n",
    "    X=np.outer(iter_k,np.ones(len(iter_p),dtype=np.int))\n",
    "    Y=np.outer(np.ones(len(iter_k)), iter_p) #x,y for 3D plots\n",
    "    Z=[] # these are for 3D wire plot         \n",
    "    for k in iter_k:\n",
    "        Z.append([plotdata[(k,p)] for p in iter_p])\n",
    "    \n",
    "    if mode == True:\n",
    "        ax=Axes3D(plt.figure())\n",
    "        ax.plot_surface(X,Y,Z,rstride=1,cstride=1,cmap=cm.coolwarm)\n",
    "        ax.view_init(70, 20) # 3D plot\n",
    "\n",
    "    ax2=Axes3D(plt.figure())\n",
    "    ax2.plot_wireframe(X,Y,Z)\n",
    "    ax2.view_init(20, 70)"
   ]
  },
  {
   "cell_type": "markdown",
   "metadata": {},
   "source": [
    "### 3.2. Load precalculated data from grid-search"
   ]
  },
  {
   "cell_type": "markdown",
   "metadata": {},
   "source": [
    "Usually grid-search takes a lot of time; we don't want to throw away results whenever we close this notebook. Thus we will store the result and use this later when we open up this notebook again."
   ]
  },
  {
   "cell_type": "code",
   "execution_count": 143,
   "metadata": {
    "collapsed": true
   },
   "outputs": [],
   "source": [
    "# load grid data from previous search\n",
    "with open('all_grid_data.pkl', 'rb') as fp:\n",
    "    all_grid_data=pickle.load(fp)\n",
    "with open('all_grid_data_konly.pkl', 'rb') as fp:\n",
    "    all_grid_data_konly=pickle.load(fp)    "
   ]
  },
  {
   "cell_type": "markdown",
   "metadata": {},
   "source": [
    "How many results do we already have?"
   ]
  },
  {
   "cell_type": "code",
   "execution_count": 182,
   "metadata": {
    "collapsed": false
   },
   "outputs": [
    {
     "data": {
      "image/png": "[encoded data removed]",
      "text/plain": [
       "<matplotlib.figure.Figure at 0x1a30ad490>"
      ]
     },
     "metadata": {},
     "output_type": "display_data"
    }
   ],
   "source": [
    "# show which data is in all_grid_data\n",
    "\n",
    "x,y=zip(*all_grid_data)\n",
    "plt.scatter(x,y)\n",
    "plt.show()"
   ]
  },
  {
   "cell_type": "code",
   "execution_count": 147,
   "metadata": {
    "collapsed": false
   },
   "outputs": [
    {
     "data": {
      "image/png": "[encoded data removed]",
      "text/plain": [
       "<matplotlib.figure.Figure at 0x1a9e7b4d0>"
      ]
     },
     "metadata": {},
     "output_type": "display_data"
    }
   ],
   "source": [
    "# show which data is in all_grid_data_konly\n",
    "x=[i for ((i,j),v) in all_grid_data_konly.iteritems()]\n",
    "y=np.zeros(len(x))\n",
    "plt.plot(x,y,'.')\n",
    "plt.show()"
   ]
  },
  {
   "cell_type": "markdown",
   "metadata": {},
   "source": [
    "### 3.3. Grid-search"
   ]
  },
  {
   "cell_type": "markdown",
   "metadata": {},
   "source": [
    "We will proceed grid-search for the tuple (k, weight) where the weight is what is multiplied to the score of kNN, which would be added to the popularity of each book. It usually takes a lot of time; calculating for 30 points usually takes ~30 minutes. But if it is already in `all_grid_data`, we will skip grid-search and use this data to plot the result."
   ]
  },
  {
   "cell_type": "code",
   "execution_count": null,
   "metadata": {
    "collapsed": false
   },
   "outputs": [],
   "source": [
    "%%time\n",
    "# grid search for weighted kNN\n",
    "\n",
    "from collections import defaultdict\n",
    "\n",
    "if 'all_grid_data' not in globals():\n",
    "    all_grid_data={}\n",
    "\n",
    "plotdata=defaultdict(int)\n",
    "iter_k = np.linspace(10,200,40, dtype=int) # range of k\n",
    "iter_p = [0.0, 0.05, 0.1,0.15, 0.2,0.25, 0.3] #range of p\n",
    "\n",
    "iter_k_actual = [k for k in iter_k if not all((k, p) in all_grid_data for p in iter_p)]\n",
    "\n",
    "for i,cid in enumerate(validatedf.ID.unique()):\n",
    "    search_res=do_grid_search(traindf, validate_bought_set[cid], \n",
    "                          iter_k_actual, iter_p,\n",
    "                          found_supports, allbooks_prob,\n",
    "                          sim_dict[cid], train_bought_set[cid],all_grid_data, VAL_NUM)\n",
    "    for k in iter_k_actual:\n",
    "        for p in iter_p: \n",
    "            plotdata[(k,p)] +=search_res[(k,p)]\n",
    "\n",
    "    if (i+1)%100==0:\n",
    "        print i+1,\n",
    "print \n",
    "\n",
    "\n",
    "for k in iter_k:\n",
    "    for p in iter_p:\n",
    "        if (k,p) in all_grid_data:\n",
    "            plotdata[(k,p)]=all_grid_data[(k,p)]\n",
    "        \n",
    "for i in plotdata:\n",
    "    if i not in all_grid_data:\n",
    "        all_grid_data[i]=plotdata[i]\n",
    "\n",
    "max_k, max_p=max(all_grid_data, key=all_grid_data.get)         \n",
    "print 'MAX: (k,a)=%s, num=%s'%((max_k, max_p), all_grid_data[(max_k,max_p)])        \n",
    "plot_grid_result(plotdata,iter_k,iter_p, mode=True)"
   ]
  },
  {
   "cell_type": "markdown",
   "metadata": {},
   "source": [
    "The following cell is for grid-search to find k for kNN only method. Here the weight is fixed by $10^9$, which is sufficiently large to be regarded as infinity. This cell is similar to the previous one."
   ]
  },
  {
   "cell_type": "code",
   "execution_count": null,
   "metadata": {
    "collapsed": false
   },
   "outputs": [],
   "source": [
    "%%time\n",
    "# grid search for only kNN\n",
    "\n",
    "from collections import defaultdict\n",
    "\n",
    "if 'all_grid_data_konly' not in globals():\n",
    "    all_grid_data_konly={}\n",
    "\n",
    "plotdata=defaultdict(int)\n",
    "iter_k = np.linspace(10,400,40, dtype=int) # range of k\n",
    "iter_p = [1e9] # always fixed\n",
    "\n",
    "iter_k_actual = [k for k in iter_k if not all((k, p) in all_grid_data_konly for p in iter_p)]\n",
    "\n",
    "for i,cid in enumerate(validatedf.ID.unique()):\n",
    "    search_res=do_grid_search(traindf, validate_bought_set[cid], \n",
    "                              iter_k_actual, iter_p,\n",
    "                              found_supports, allbooks_prob,\n",
    "                              sim_dict[cid], train_bought_set[cid],all_grid_data_konly, VAL_NUM)\n",
    "    for k in iter_k_actual:\n",
    "        for p in iter_p: \n",
    "            plotdata[(k,p)] +=search_res[(k,p)]\n",
    "                \n",
    "    if (i+1)%100==0:\n",
    "        print i+1,\n",
    "print\n",
    "\n",
    "for k in iter_k:\n",
    "    for p in iter_p:\n",
    "        if (k,p) in all_grid_data_konly:\n",
    "            plotdata[(k,p)]=all_grid_data_konly[(k,p)]\n",
    "        \n",
    "for i in plotdata:\n",
    "    if i not in all_grid_data_konly:\n",
    "        all_grid_data_konly[i]=plotdata[i]\n",
    "        \n",
    "max_k_only, _=max(all_grid_data_konly, key=all_grid_data_konly.get)        \n",
    "print 'MAX: k=%s, num=%s'%(max_k_only, all_grid_data_konly[(max_k_only, 1e9)])\n",
    "plot_grid_result(plotdata,iter_k,iter_p)"
   ]
  },
  {
   "cell_type": "markdown",
   "metadata": {},
   "source": [
    "We store the results obtained from grid-search."
   ]
  },
  {
   "cell_type": "code",
   "execution_count": 208,
   "metadata": {
    "collapsed": true
   },
   "outputs": [],
   "source": [
    "max_k, max_p=max(all_grid_data, key=all_grid_data.get) \n",
    "max_k_only, _=max(all_grid_data_konly, key=all_grid_data_konly.get)\n",
    "total=len(validatedf.ID.unique())*VAL_NUM"
   ]
  },
  {
   "cell_type": "markdown",
   "metadata": {},
   "source": [
    "This cell shows all the data we obtained by the grid-search for the pair (k, weight). "
   ]
  },
  {
   "cell_type": "code",
   "execution_count": 211,
   "metadata": {
    "collapsed": false
   },
   "outputs": [
    {
     "name": "stdout",
     "output_type": "stream",
     "text": [
      "MAX: (k,a)=(291, 0.11000000000000001), prob=5.0886550382%\n"
     ]
    },
    {
     "data": {
      "image/png": "[encoded data removed]",
      "text/plain": [
       "<matplotlib.figure.Figure at 0x1dadb2890>"
      ]
     },
     "metadata": {},
     "output_type": "display_data"
    }
   ],
   "source": [
    "# draw surface plot for all the data in all_grid_data\n",
    "\n",
    "thres=0.05 # we will plot data whose values are bigger than this threshold\n",
    "\n",
    "print 'MAX: (k,a)=%s, prob=%s%%'%((max_k, max_p), all_grid_data[(max_k,max_p)]*100./total)\n",
    "drawdata={k:v*1./total for k,v in all_grid_data.iteritems() if v*1./total>thres}\n",
    "X,Y=zip(*drawdata)\n",
    "Z=drawdata.values() # collect data from all_grid_data w.r.t. certain threshold\n",
    "\n",
    "ax=Axes3D(plt.figure())\n",
    "ax.plot_trisurf(X,Y,Z, cmap=cm.coolwarm)\n",
    "ax.view_init(20, 50) # 3D trisurface plot"
   ]
  },
  {
   "cell_type": "markdown",
   "metadata": {},
   "source": [
    "Likewise, we draw the plot obtained from grid-search for k used in kNN-only method."
   ]
  },
  {
   "cell_type": "code",
   "execution_count": 212,
   "metadata": {
    "collapsed": false
   },
   "outputs": [
    {
     "name": "stdout",
     "output_type": "stream",
     "text": [
      "MAX: k=290, prob=5.08144731152%\n"
     ]
    },
    {
     "data": {
      "image/png": "[encoded data removed]",
      "text/plain": [
       "<matplotlib.figure.Figure at 0x1b5ad60d0>"
      ]
     },
     "metadata": {},
     "output_type": "display_data"
    }
   ],
   "source": [
    "# draw a scatter plot for only-kNN data in all_grid_data_konly\n",
    "\n",
    "\n",
    "print 'MAX: k=%s, prob=%s%%'%(max_k_only, all_grid_data_konly[(max_k_only, 1e9)]*100./total)\n",
    "drawdata=[(i,v) for ((i,j),v) in all_grid_data_konly.iteritems()]\n",
    "x,y= zip(*drawdata)\n",
    "plt.plot(x,y,'.')\n",
    "plt.show()"
   ]
  },
  {
   "cell_type": "markdown",
   "metadata": {},
   "source": [
    "Here comes the interesting part; which one is better? As shown below, we see that if we mix kNN method and naïve popularity method, then it turned out to be *slightly* better than kNN-only method. But would it be still true if we apply this result to the test data? We will see."
   ]
  },
  {
   "cell_type": "code",
   "execution_count": 213,
   "metadata": {
    "collapsed": false
   },
   "outputs": [
    {
     "name": "stdout",
     "output_type": "stream",
     "text": [
      "MAX: (k,a)=(291, 0.11000000000000001), prob=5.0886550382%\n",
      "MAX: k=290, prob=5.08144731152%\n"
     ]
    }
   ],
   "source": [
    "print 'MAX: (k,a)=%s, prob=%s%%'%((max_k, max_p), all_grid_data[(max_k,max_p)]*100./total)\n",
    "print 'MAX: k=%s, prob=%s%%'%(max_k_only, all_grid_data_konly[(max_k_only, 1e9)]*100./total)"
   ]
  },
  {
   "cell_type": "markdown",
   "metadata": {},
   "source": [
    "## 4.Test the model!"
   ]
  },
  {
   "cell_type": "markdown",
   "metadata": {},
   "source": [
    "### 4.1. Which method is the best?"
   ]
  },
  {
   "cell_type": "markdown",
   "metadata": {},
   "source": [
    "Now we will test the result from grid-search to figure out how accurate our model is as we compare a recommendation list from our method to the actual result. First we define the test function; basically it is similar to `do_grid_search` function, but we input single (k, weight) instead of the range of k and weight."
   ]
  },
  {
   "cell_type": "code",
   "execution_count": 207,
   "metadata": {
    "collapsed": true
   },
   "outputs": [],
   "source": [
    "# test function\n",
    "# Input : df: dataframe\n",
    "#         testset: test set which we wish to predict\n",
    "#         k: the value of k in k-NN\n",
    "#         p: the value of p\n",
    "#         found_supports: dictionary of the form \"User ID: corresponding support vector\n",
    "#         allbooks_prob: dictionary of the form \"ISBN: its proportion to the whole books\"\n",
    "#         knn_dist: SORTED list of tuples (user ID, sim_value)\n",
    "#         user_bought: list of books the user already bought\n",
    "#         num: the number of books that the model recommends\n",
    "# Output: the number of books we correctly predicted\n",
    "\n",
    "def get_test_result(df, testset, k, p, found_supports, allbooks_prob, knn_dist, user_bought, num=5):\n",
    "    knnresult=get_result(df, knn_dist, found_supports,k=k)\n",
    "    res={book:(allbooks_prob[book]+knnresult[book]*p) for book in df.ISBN.unique() if book not in user_bought}\n",
    "    return len(set(sorted(res, key=res.get, reverse=True)[:num]).intersection(testset))"
   ]
  },
  {
   "cell_type": "markdown",
   "metadata": {},
   "source": [
    "Then we test the model on the test data. Here we compare the results from four methods, i.e. naïve popularity, ensemble of kNN and popularity, kNN-only, and random recommendation."
   ]
  },
  {
   "cell_type": "code",
   "execution_count": 217,
   "metadata": {
    "collapsed": false
   },
   "outputs": [
    {
     "name": "stdout",
     "output_type": "stream",
     "text": [
      "200 400 600 800 1000 1200 1400 1600 1800\n",
      "popularity  :2.47225025227%\n",
      "ensemble knn:8.44601412714%\n",
      "knn only    :8.69828456105%\n",
      "random      :0.0302724520686%\n",
      "CPU times: user 7min 4s, sys: 9.42 s, total: 7min 14s\n",
      "Wall time: 7min 23s\n"
     ]
    }
   ],
   "source": [
    "%%time\n",
    "# test the model!\n",
    "\n",
    "pop_res=0\n",
    "knn_res=0\n",
    "rand_res=0\n",
    "knn_only_res=0\n",
    "allbooks=set(tr_va_df.ISBN.unique())\n",
    "\n",
    "max_k, max_p=max(all_grid_data, key=all_grid_data.get)\n",
    "max_k_only,_=max(all_grid_data_konly, key=all_grid_data_konly.get)\n",
    "\n",
    "for i,cid in enumerate(testdf.ID.unique()):\n",
    "    knn_res+=get_test_result(tr_va_df, test_bought_set[cid], max_k, max_p,\n",
    "                             found_supports_w_val, allbooks_prob_w_val,\n",
    "                             sim_dict_w_val[cid], tr_va_bought_set[cid], num=TEST_NUM)\n",
    "    knn_only_res+=get_test_result(tr_va_df, test_bought_set[cid], max_k_only, 1e9,\n",
    "                             found_supports_w_val, allbooks_prob_w_val,\n",
    "                             sim_dict_w_val[cid], tr_va_bought_set[cid], num=TEST_NUM)    \n",
    "    recom_base={book:allbooks_prob_w_val[book] for book in allbooks if book not in tr_va_bought_set[cid]}\n",
    "    pop_res+=len(set(sorted(recom_base, key=recom_base.get, reverse=True)[:TEST_NUM]).intersection(test_bought_set[cid]))    \n",
    "    rand_res+=len(set(np.random.choice(list(allbooks.difference(tr_va_bought_set[cid])), TEST_NUM, replace=False)).intersection(test_bought_set[cid]))\n",
    "                \n",
    "    if (i+1)%200==0:\n",
    "        print i+1,\n",
    "        \n",
    "print\n",
    "print 'popularity  :%s%%'%(pop_res*1./(len(testdf.ID.unique())*TEST_NUM)*100)\n",
    "print 'ensemble knn:%s%%'%(knn_res*1./(len(testdf.ID.unique())*TEST_NUM)*100)\n",
    "print 'knn only    :%s%%'%(knn_only_res*1./(len(testdf.ID.unique())*TEST_NUM)*100)\n",
    "print 'random      :%s%%'%(rand_res*1./(len(testdf.ID.unique())*TEST_NUM)*100)"
   ]
  },
  {
   "cell_type": "markdown",
   "metadata": {},
   "source": [
    "We see that the kNN-only method is the best among four. But we observed that if we mix kNN scores and popularity then it gives the better result on the validation data. Why does this happen? It means that we have overfitting problem; compared to kNN-only method, we have 1 more degree of freedon as we mix two methods, so it should give us better result during validation. However, as we apply this result to the test data, it has lower prediction power than using kNN-only method. (This phenomena can be also observed if we look at each separate category.) Thus we conclude that it is better to use the kNN-only method for recommendation."
   ]
  },
  {
   "cell_type": "markdown",
   "metadata": {},
   "source": [
    "### 4.2. How about books? Find similar books if one is given"
   ]
  },
  {
   "cell_type": "markdown",
   "metadata": {},
   "source": [
    "One advantage of the method we have is that it can be expanded when just the single book is given. If so, then we consider an imaginary user who only bought the given book. Then we have scores for all the other books, so by sorting out the scores we will get the list of similar books to the given one. Note that the function `get_sim_for_book` below is similar to the function `get_sim` defined before."
   ]
  },
  {
   "cell_type": "code",
   "execution_count": 218,
   "metadata": {
    "collapsed": true
   },
   "outputs": [],
   "source": [
    "# For a given book, return a list of users with similarity value\n",
    "# Input : dataframe, ISBN\n",
    "# Output: SORTED list of tuples (User ID, similarity value) if the value is NOT zero\n",
    "\n",
    "def get_sim_for_book(df, isbn):\n",
    "    res={}\n",
    "    for i, v in df.groupby('ID').ISBN.unique().iteritems():\n",
    "        if isbn in v:\n",
    "            res[i]=1./(np.sqrt(len(set(v))))\n",
    "    res_transform = [(j,res[j]) for j in sorted(res, key=res.get, reverse=True)]\n",
    "    return res_transform"
   ]
  },
  {
   "cell_type": "markdown",
   "metadata": {},
   "source": [
    "Now for a given book, we print out the list of similar books. Here we choose '아프니까 청춘이다', once a famous self-development book in Korea."
   ]
  },
  {
   "cell_type": "code",
   "execution_count": 237,
   "metadata": {
    "collapsed": false
   },
   "outputs": [
    {
     "name": "stdout",
     "output_type": "stream",
     "text": [
      "Given book: ISBN 9788965700036, \"아프니까 청춘이다\"\n"
     ]
    },
    {
     "data": {
      "text/html": [
       "<div>\n",
       "<table border=\"1\" class=\"dataframe\">\n",
       "  <thead>\n",
       "    <tr style=\"text-align: right;\">\n",
       "      <th></th>\n",
       "      <th>ISBN</th>\n",
       "      <th>author</th>\n",
       "      <th>publisher</th>\n",
       "      <th>sim_value</th>\n",
       "      <th>title</th>\n",
       "    </tr>\n",
       "    <tr>\n",
       "      <th>rank</th>\n",
       "      <th></th>\n",
       "      <th></th>\n",
       "      <th></th>\n",
       "      <th></th>\n",
       "      <th></th>\n",
       "    </tr>\n",
       "  </thead>\n",
       "  <tbody>\n",
       "    <tr>\n",
       "      <th>1</th>\n",
       "      <td>9788965700609</td>\n",
       "      <td>&lt;혜민 스님&gt; 저/&lt;이영철&gt; 그림</td>\n",
       "      <td>쌤앤파커스</td>\n",
       "      <td>0.566501</td>\n",
       "      <td>멈추면, 비로소 보이는 것들</td>\n",
       "    </tr>\n",
       "    <tr>\n",
       "      <th>2</th>\n",
       "      <td>9788994013503</td>\n",
       "      <td>&lt;칼 필레머&gt; 저/&lt;박여진&gt; 역</td>\n",
       "      <td>토네이도</td>\n",
       "      <td>0.564460</td>\n",
       "      <td>내가 알고 있는 걸 당신도 알게 된다면</td>\n",
       "    </tr>\n",
       "    <tr>\n",
       "      <th>3</th>\n",
       "      <td>9788932916194</td>\n",
       "      <td>&lt;요나스 요나손&gt; 저/&lt;임호경&gt; 역</td>\n",
       "      <td>열린책들</td>\n",
       "      <td>0.541529</td>\n",
       "      <td>창문 넘어 도망친 100세 노인</td>\n",
       "    </tr>\n",
       "    <tr>\n",
       "      <th>4</th>\n",
       "      <td>9788933870181</td>\n",
       "      <td>&lt;스튜어트 다이아몬드&gt; 저/&lt;김태훈&gt; 역</td>\n",
       "      <td>8.0(에이트 포인트)</td>\n",
       "      <td>0.516883</td>\n",
       "      <td>어떻게 원하는 것을 얻는가</td>\n",
       "    </tr>\n",
       "    <tr>\n",
       "      <th>5</th>\n",
       "      <td>9788901150598</td>\n",
       "      <td>&lt;찰스 두히그&gt; 저/&lt;강주헌&gt; 역</td>\n",
       "      <td>갤리온</td>\n",
       "      <td>0.515830</td>\n",
       "      <td>습관의 힘</td>\n",
       "    </tr>\n",
       "    <tr>\n",
       "      <th>6</th>\n",
       "      <td>9788984370753</td>\n",
       "      <td>&lt;기욤 뮈소&gt; 저/&lt;윤미연&gt; 역</td>\n",
       "      <td>밝은세상</td>\n",
       "      <td>0.500000</td>\n",
       "      <td>구해줘</td>\n",
       "    </tr>\n",
       "    <tr>\n",
       "      <th>7</th>\n",
       "      <td>9791185424156</td>\n",
       "      <td>&lt;박경철&gt; 저</td>\n",
       "      <td>리더스북</td>\n",
       "      <td>0.500000</td>\n",
       "      <td>시골의사 박경철의 청소년을 위한 자기혁명</td>\n",
       "    </tr>\n",
       "    <tr>\n",
       "      <th>8</th>\n",
       "      <td>9788954622035</td>\n",
       "      <td>&lt;김영하&gt; 저</td>\n",
       "      <td>문학동네</td>\n",
       "      <td>0.500000</td>\n",
       "      <td>살인자의 기억법</td>\n",
       "    </tr>\n",
       "    <tr>\n",
       "      <th>9</th>\n",
       "      <td>9788992378093</td>\n",
       "      <td>&lt;레프 톨스토이&gt; 저/&lt;이상원&gt; 역</td>\n",
       "      <td>조화로운삶</td>\n",
       "      <td>0.473359</td>\n",
       "      <td>살아갈 날들을 위한 공부</td>\n",
       "    </tr>\n",
       "    <tr>\n",
       "      <th>10</th>\n",
       "      <td>9788970653976</td>\n",
       "      <td>&lt;정여울&gt; 저/&lt;대한항공 여행사진 공모전 당선작&gt; 등 사진</td>\n",
       "      <td>홍익출판사</td>\n",
       "      <td>0.460144</td>\n",
       "      <td>내가 사랑한 유럽 TOP10</td>\n",
       "    </tr>\n",
       "    <tr>\n",
       "      <th>11</th>\n",
       "      <td>9788995501443</td>\n",
       "      <td>&lt;프랑수아 를로르&gt; 저/&lt;오유란&gt; 역</td>\n",
       "      <td>오래된미래</td>\n",
       "      <td>0.406282</td>\n",
       "      <td>꾸뻬 씨의 행복 여행</td>\n",
       "    </tr>\n",
       "    <tr>\n",
       "      <th>12</th>\n",
       "      <td>9788936433673</td>\n",
       "      <td>&lt;신경숙&gt; 저</td>\n",
       "      <td>창비</td>\n",
       "      <td>0.405128</td>\n",
       "      <td>엄마를 부탁해</td>\n",
       "    </tr>\n",
       "    <tr>\n",
       "      <th>13</th>\n",
       "      <td>9788974254896</td>\n",
       "      <td>&lt;이지성&gt; 저</td>\n",
       "      <td>국일미디어</td>\n",
       "      <td>0.385965</td>\n",
       "      <td>꿈꾸는 다락방</td>\n",
       "    </tr>\n",
       "    <tr>\n",
       "      <th>14</th>\n",
       "      <td>9788901154091</td>\n",
       "      <td>&lt;이근후&gt; 저</td>\n",
       "      <td>갤리온</td>\n",
       "      <td>0.383047</td>\n",
       "      <td>나는 죽을 때까지 재미있게 살고 싶다</td>\n",
       "    </tr>\n",
       "    <tr>\n",
       "      <th>15</th>\n",
       "      <td>9788984371286</td>\n",
       "      <td>&lt;기욤 뮈소&gt; 저/&lt;양영란&gt; 역</td>\n",
       "      <td>밝은세상</td>\n",
       "      <td>0.336401</td>\n",
       "      <td>내일</td>\n",
       "    </tr>\n",
       "    <tr>\n",
       "      <th>16</th>\n",
       "      <td>9788974647407</td>\n",
       "      <td>&lt;정재환&gt;,&lt;신소혜&gt; 공저</td>\n",
       "      <td>한국외국어대학교출판부</td>\n",
       "      <td>0.333333</td>\n",
       "      <td>논리 속의 오류, 오류 속의 논리</td>\n",
       "    </tr>\n",
       "    <tr>\n",
       "      <th>17</th>\n",
       "      <td>9788901061252</td>\n",
       "      <td>&lt;김용규&gt; 저</td>\n",
       "      <td>웅진지식하우스</td>\n",
       "      <td>0.333333</td>\n",
       "      <td>철학카페에서 문학읽기</td>\n",
       "    </tr>\n",
       "    <tr>\n",
       "      <th>18</th>\n",
       "      <td>9788933801741</td>\n",
       "      <td>&lt;박완서&gt; 저</td>\n",
       "      <td>세계사</td>\n",
       "      <td>0.333333</td>\n",
       "      <td>나목</td>\n",
       "    </tr>\n",
       "    <tr>\n",
       "      <th>19</th>\n",
       "      <td>9788988027400</td>\n",
       "      <td>&lt;N.H클라인바움&gt; 저/&lt;한은주&gt; 역</td>\n",
       "      <td>서교출판사</td>\n",
       "      <td>0.333333</td>\n",
       "      <td>죽은 시인의 사회</td>\n",
       "    </tr>\n",
       "    <tr>\n",
       "      <th>20</th>\n",
       "      <td>9788931001143</td>\n",
       "      <td>&lt;에리히 프롬&gt; 저/&lt;황문수&gt; 역</td>\n",
       "      <td>문예출판사</td>\n",
       "      <td>0.333333</td>\n",
       "      <td>사랑의 기술</td>\n",
       "    </tr>\n",
       "  </tbody>\n",
       "</table>\n",
       "</div>"
      ],
      "text/plain": [
       "               ISBN                            author     publisher  sim_value                   title\n",
       "rank                                                                                                  \n",
       "1     9788965700609                <혜민 스님> 저/<이영철> 그림         쌤앤파커스   0.566501         멈추면, 비로소 보이는 것들\n",
       "2     9788994013503                 <칼 필레머> 저/<박여진> 역          토네이도   0.564460   내가 알고 있는 걸 당신도 알게 된다면\n",
       "3     9788932916194               <요나스 요나손> 저/<임호경> 역          열린책들   0.541529       창문 넘어 도망친 100세 노인\n",
       "4     9788933870181            <스튜어트 다이아몬드> 저/<김태훈> 역  8.0(에이트 포인트)   0.516883          어떻게 원하는 것을 얻는가\n",
       "5     9788901150598                <찰스 두히그> 저/<강주헌> 역           갤리온   0.515830                   습관의 힘\n",
       "6     9788984370753                 <기욤 뮈소> 저/<윤미연> 역          밝은세상   0.500000                     구해줘\n",
       "7     9791185424156                           <박경철> 저          리더스북   0.500000  시골의사 박경철의 청소년을 위한 자기혁명\n",
       "8     9788954622035                           <김영하> 저          문학동네   0.500000                살인자의 기억법\n",
       "9     9788992378093               <레프 톨스토이> 저/<이상원> 역         조화로운삶   0.473359           살아갈 날들을 위한 공부\n",
       "10    9788970653976  <정여울> 저/<대한항공 여행사진 공모전 당선작> 등 사진         홍익출판사   0.460144         내가 사랑한 유럽 TOP10\n",
       "11    9788995501443              <프랑수아 를로르> 저/<오유란> 역         오래된미래   0.406282             꾸뻬 씨의 행복 여행\n",
       "12    9788936433673                           <신경숙> 저            창비   0.405128                 엄마를 부탁해\n",
       "13    9788974254896                           <이지성> 저         국일미디어   0.385965                 꿈꾸는 다락방\n",
       "14    9788901154091                           <이근후> 저           갤리온   0.383047    나는 죽을 때까지 재미있게 살고 싶다\n",
       "15    9788984371286                 <기욤 뮈소> 저/<양영란> 역          밝은세상   0.336401                      내일\n",
       "16    9788974647407                    <정재환>,<신소혜> 공저   한국외국어대학교출판부   0.333333      논리 속의 오류, 오류 속의 논리\n",
       "17    9788901061252                           <김용규> 저       웅진지식하우스   0.333333             철학카페에서 문학읽기\n",
       "18    9788933801741                           <박완서> 저           세계사   0.333333                      나목\n",
       "19    9788988027400              <N.H클라인바움> 저/<한은주> 역         서교출판사   0.333333               죽은 시인의 사회\n",
       "20    9788931001143                <에리히 프롬> 저/<황문수> 역         문예출판사   0.333333                  사랑의 기술"
      ]
     },
     "execution_count": 237,
     "metadata": {},
     "output_type": "execute_result"
    }
   ],
   "source": [
    "# for a given ISBN, return similar books with their similarity values\n",
    "\n",
    "given_ISBN='9788965700036'\n",
    "num=20 # the number of books we want to recommend\n",
    "allbooks=set(alldf.ISBN.unique())\n",
    "\n",
    "max_k_only, _=max(all_grid_data_konly, key=all_grid_data_konly.get)\n",
    "\n",
    "sim=get_sim_for_book(alldf,given_ISBN)\n",
    "\n",
    "knnresult=get_result(alldf,sim, found_supports_all,k=max_k_only)\n",
    "recom_knn={book:knnresult[book] for book in allbooks if book !=given_ISBN}\n",
    "\n",
    "print 'Given book: ISBN %s, \"%s\"'%(given_ISBN, alldf[alldf['ISBN']==given_ISBN].Title.iloc[0])\n",
    "\n",
    "res_list=[]\n",
    "for (n,i) in enumerate(sorted(recom_knn, key=recom_knn.get, reverse=True)[:20]):\n",
    "    book_data=alldf[alldf['ISBN']==i].iloc[0]\n",
    "    res_list.append(dict(rank=n+1, ISBN=i, sim_value=recom_knn[i], \n",
    "                         title=book_data.Title, author=book_data.Author, publisher=book_data.Publisher))\n",
    "pd.DataFrame(res_list).set_index('rank')"
   ]
  },
  {
   "cell_type": "markdown",
   "metadata": {},
   "source": [
    "### 4.3. Make a list of recommendation for each user"
   ]
  },
  {
   "cell_type": "markdown",
   "metadata": {},
   "source": [
    "Now we will make a file which contains a list of recommendation for each user. It would be used if we want to apply the kNN-only method we constructed to the real world. Here we will get lists for users only in the test data. The following function will do the job for us, and note that it is very similar to `get_test_result` function."
   ]
  },
  {
   "cell_type": "code",
   "execution_count": 238,
   "metadata": {
    "collapsed": true
   },
   "outputs": [],
   "source": [
    "# for a user in the test set, return a list of recommendation\n",
    "# Input : df: dataframe\n",
    "#         k: k for kNN\n",
    "#         found_supports: dictionary of the form \"User ID: corresponding support vector\n",
    "#         knn_dist: SORTED list of tuples (user ID, sim_value)\n",
    "#         user_bought: list of books the user already bought\n",
    "#         num: the number of books that the model recommends\n",
    "# Output: a SORTED list of num-ISBNs with highest probabilities\n",
    "\n",
    "def get_final_output(df, k, found_supports, knn_dist, user_bought, num=5):\n",
    "    knnresult=get_result(df, knn_dist, found_supports,k=k)\n",
    "    res={book:knnresult[book] for book in df.ISBN.unique() if book not in user_bought}\n",
    "    return sorted(res, key=res.get, reverse=True)[:num]"
   ]
  },
  {
   "cell_type": "markdown",
   "metadata": {},
   "source": [
    "Here we make a dictionary where keys are ISBNs and values are titles. It takes 3~4 minutes."
   ]
  },
  {
   "cell_type": "code",
   "execution_count": 240,
   "metadata": {
    "collapsed": false
   },
   "outputs": [
    {
     "name": "stdout",
     "output_type": "stream",
     "text": [
      "CPU times: user 3min 22s, sys: 2.24 s, total: 3min 24s\n",
      "Wall time: 3min 29s\n"
     ]
    }
   ],
   "source": [
    "# make a dictionary of the form \"ISBN: title\"\n",
    "%time titlelist={isbn:alldf[alldf['ISBN']==isbn].Title.iloc[0] for isbn in alldf.ISBN.unique()}"
   ]
  },
  {
   "cell_type": "markdown",
   "metadata": {},
   "source": [
    "Now we produce the final output..."
   ]
  },
  {
   "cell_type": "code",
   "execution_count": 241,
   "metadata": {
    "collapsed": false
   },
   "outputs": [],
   "source": [
    "# making a list of recommended books for each user - will be used to do the actual test\n",
    "\n",
    "num=20 # the number of books which would be contained in a recommendation list for each user\n",
    "max_k_only, _=max(all_grid_data_konly, key=all_grid_data_konly.get)\n",
    "\n",
    "final_output={}\n",
    "\n",
    "for cid in testdf.ID.unique():\n",
    "    final_output[cid]= {pr+1:{'ISBN': isbn, 'title':titlelist[isbn]} for pr,isbn in enumerate(get_final_output(alldf, max_k_only, found_supports_all ,sim_dict_all[cid], all_bought_set[cid], num=num))}"
   ]
  },
  {
   "cell_type": "markdown",
   "metadata": {},
   "source": [
    "and export it to a JSON file."
   ]
  },
  {
   "cell_type": "code",
   "execution_count": 242,
   "metadata": {
    "collapsed": false
   },
   "outputs": [],
   "source": [
    "with open(\"test_output.json\", \"w\") as fd:\n",
    "    json.dump(final_output, fd)"
   ]
  },
  {
   "cell_type": "markdown",
   "metadata": {},
   "source": [
    "## 5. Save and quit"
   ]
  },
  {
   "cell_type": "markdown",
   "metadata": {},
   "source": [
    "Before we close this notebook, don't forget to export grid-search data to files. (They are expensive!)"
   ]
  },
  {
   "cell_type": "code",
   "execution_count": 244,
   "metadata": {
    "collapsed": true
   },
   "outputs": [],
   "source": [
    "# save the grid search data\n",
    "\n",
    "with open('all_grid_data.pkl', 'wb') as fp:\n",
    "    pickle.dump(all_grid_data,fp)\n",
    "\n",
    "with open('all_grid_data_konly.pkl', 'wb') as fp:\n",
    "    pickle.dump(all_grid_data_konly,fp)"
   ]
  },
  {
   "cell_type": "markdown",
   "metadata": {},
   "source": [
    "We're done!"
   ]
  }
 ],
 "metadata": {
  "kernelspec": {
   "display_name": "Python 2",
   "language": "python",
   "name": "python2"
  },
  "language_info": {
   "codemirror_mode": {
    "name": "ipython",
    "version": 2
   },
   "file_extension": ".py",
   "mimetype": "text/x-python",
   "name": "python",
   "nbconvert_exporter": "python",
   "pygments_lexer": "ipython2",
   "version": "2.7.10"
  }
 },
 "nbformat": 4,
 "nbformat_minor": 0
}
