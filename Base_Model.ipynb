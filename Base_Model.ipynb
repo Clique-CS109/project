{
 "cells": [
  {
   "cell_type": "code",
   "execution_count": 45,
   "metadata": {
    "collapsed": true
   },
   "outputs": [],
   "source": [
    "%matplotlib inline\n",
    "import numpy as np\n",
    "import scipy as sp\n",
    "import matplotlib as mpl\n",
    "import matplotlib.cm as cm\n",
    "import matplotlib.pyplot as plt\n",
    "import pandas as pd\n",
    "pd.set_option('display.width', 500)\n",
    "pd.set_option('display.max_columns', 100)\n",
    "pd.set_option('display.notebook_repr_html', True)\n",
    "import seaborn as sns\n",
    "sns.set_style(\"whitegrid\")\n",
    "sns.set_context(\"poster\")"
   ]
  },
  {
   "cell_type": "markdown",
   "metadata": {},
   "source": [
    "In this notebook, we work on the baseline model. The baseline model is a book recommendation system which mimicks the feature of `Customers who bought this book also bought these`. This is a simplification of the kNN algorithm which will be explained by another ipython notebook. First we load train-validate-test data. For now this notebook is for ALL 5 categories. We can definitely change the input data."
   ]
  },
  {
   "cell_type": "code",
   "execution_count": 46,
   "metadata": {
    "collapsed": false
   },
   "outputs": [],
   "source": [
    "traindf = pd.read_csv(\"All_train.csv\", dtype={'ISBN':np.str})\n",
    "validatedf = pd.read_csv(\"All_validate.csv\", dtype={'ISBN':np.str})\n",
    "testdf = pd.read_csv(\"All_test.csv\", dtype={'ISBN':np.str})"
   ]
  },
  {
   "cell_type": "markdown",
   "metadata": {},
   "source": [
    "First see whether the data has been loaded appropriately."
   ]
  },
  {
   "cell_type": "code",
   "execution_count": 53,
   "metadata": {
    "collapsed": false
   },
   "outputs": [
    {
     "data": {
      "text/html": [
       "<div>\n",
       "<table border=\"1\" class=\"dataframe\">\n",
       "  <thead>\n",
       "    <tr style=\"text-align: right;\">\n",
       "      <th></th>\n",
       "      <th>Title</th>\n",
       "      <th>ID</th>\n",
       "      <th>Date</th>\n",
       "      <th>Class</th>\n",
       "      <th>Category</th>\n",
       "      <th>Author</th>\n",
       "      <th>ISBN</th>\n",
       "      <th>Publisher</th>\n",
       "      <th>Pub_Date</th>\n",
       "      <th>Order_Time</th>\n",
       "      <th>Count</th>\n",
       "      <th>Cart</th>\n",
       "      <th>Cart_Date</th>\n",
       "      <th>Device</th>\n",
       "      <th>Address1</th>\n",
       "      <th>Address2</th>\n",
       "      <th>user_purchase_count</th>\n",
       "      <th>book_sell_count</th>\n",
       "    </tr>\n",
       "  </thead>\n",
       "  <tbody>\n",
       "    <tr>\n",
       "      <th>0</th>\n",
       "      <td>데프콘 한미전쟁 세트</td>\n",
       "      <td>168</td>\n",
       "      <td>20141108</td>\n",
       "      <td>주문</td>\n",
       "      <td>국내문학</td>\n",
       "      <td>&lt;김경진&gt; 등저</td>\n",
       "      <td>9788956372389</td>\n",
       "      <td>씨앗을뿌리는사람</td>\n",
       "      <td>20000229</td>\n",
       "      <td>20</td>\n",
       "      <td>1</td>\n",
       "      <td>N</td>\n",
       "      <td>NaN</td>\n",
       "      <td>기기PID_PC</td>\n",
       "      <td>인천광역시</td>\n",
       "      <td>계양구</td>\n",
       "      <td>1</td>\n",
       "      <td>1</td>\n",
       "    </tr>\n",
       "    <tr>\n",
       "      <th>1</th>\n",
       "      <td>다이버전트</td>\n",
       "      <td>186</td>\n",
       "      <td>20141003</td>\n",
       "      <td>주문</td>\n",
       "      <td>해외문학</td>\n",
       "      <td>&lt;베로니카 로스&gt; 저/&lt;이수현&gt; 역</td>\n",
       "      <td>9788956607108</td>\n",
       "      <td>은행나무</td>\n",
       "      <td>20130807</td>\n",
       "      <td>18</td>\n",
       "      <td>1</td>\n",
       "      <td>N</td>\n",
       "      <td>NaN</td>\n",
       "      <td>기기PID_PC</td>\n",
       "      <td>제주특별자치도</td>\n",
       "      <td>서귀포시</td>\n",
       "      <td>1</td>\n",
       "      <td>20</td>\n",
       "    </tr>\n",
       "    <tr>\n",
       "      <th>2</th>\n",
       "      <td>스피라, 세계를 향한 영혼의 승부</td>\n",
       "      <td>188</td>\n",
       "      <td>20140929</td>\n",
       "      <td>주문</td>\n",
       "      <td>자기계발</td>\n",
       "      <td>&lt;김한철&gt; 저</td>\n",
       "      <td>9788925539775</td>\n",
       "      <td>랜덤하우스코리아</td>\n",
       "      <td>20100916</td>\n",
       "      <td>19</td>\n",
       "      <td>1</td>\n",
       "      <td>N</td>\n",
       "      <td>NaN</td>\n",
       "      <td>기기PID_PC</td>\n",
       "      <td>인천광역시</td>\n",
       "      <td>강화군</td>\n",
       "      <td>1</td>\n",
       "      <td>2</td>\n",
       "    </tr>\n",
       "    <tr>\n",
       "      <th>3</th>\n",
       "      <td>이상한 나라의 앨리스</td>\n",
       "      <td>193</td>\n",
       "      <td>20140910</td>\n",
       "      <td>주문</td>\n",
       "      <td>해외문학</td>\n",
       "      <td>&lt;루이스 캐럴&gt; 저/&lt;김양미&gt; 역/&lt;김민지&gt; 그림</td>\n",
       "      <td>9788992632126</td>\n",
       "      <td>인디고(글담)</td>\n",
       "      <td>20071220</td>\n",
       "      <td>21</td>\n",
       "      <td>1</td>\n",
       "      <td>N</td>\n",
       "      <td>NaN</td>\n",
       "      <td>기기PID_PC</td>\n",
       "      <td>인천광역시</td>\n",
       "      <td>서구</td>\n",
       "      <td>1</td>\n",
       "      <td>67</td>\n",
       "    </tr>\n",
       "    <tr>\n",
       "      <th>4</th>\n",
       "      <td>노인과 바다</td>\n",
       "      <td>217</td>\n",
       "      <td>20140904</td>\n",
       "      <td>주문</td>\n",
       "      <td>해외문학</td>\n",
       "      <td>&lt;어니스트 헤밍웨이&gt; 저/&lt;이종인&gt; 역</td>\n",
       "      <td>9788932911984</td>\n",
       "      <td>열린책들</td>\n",
       "      <td>20120210</td>\n",
       "      <td>15</td>\n",
       "      <td>1</td>\n",
       "      <td>N</td>\n",
       "      <td>NaN</td>\n",
       "      <td>기기PID_PC</td>\n",
       "      <td>경기도</td>\n",
       "      <td>수원시 장안구</td>\n",
       "      <td>1</td>\n",
       "      <td>68</td>\n",
       "    </tr>\n",
       "  </tbody>\n",
       "</table>\n",
       "</div>"
      ],
      "text/plain": [
       "                Title   ID      Date Class Category                       Author           ISBN Publisher  Pub_Date  Order_Time  Count Cart  Cart_Date    Device Address1 Address2  user_purchase_count  book_sell_count\n",
       "0         데프콘 한미전쟁 세트  168  20141108    주문     국내문학                     <김경진> 등저  9788956372389  씨앗을뿌리는사람  20000229          20      1    N        NaN  기기PID_PC    인천광역시      계양구                    1                1\n",
       "1               다이버전트  186  20141003    주문     해외문학          <베로니카 로스> 저/<이수현> 역  9788956607108      은행나무  20130807          18      1    N        NaN  기기PID_PC  제주특별자치도     서귀포시                    1               20\n",
       "2  스피라, 세계를 향한 영혼의 승부  188  20140929    주문     자기계발                      <김한철> 저  9788925539775  랜덤하우스코리아  20100916          19      1    N        NaN  기기PID_PC    인천광역시      강화군                    1                2\n",
       "3         이상한 나라의 앨리스  193  20140910    주문     해외문학  <루이스 캐럴> 저/<김양미> 역/<김민지> 그림  9788992632126   인디고(글담)  20071220          21      1    N        NaN  기기PID_PC    인천광역시       서구                    1               67\n",
       "4              노인과 바다  217  20140904    주문     해외문학        <어니스트 헤밍웨이> 저/<이종인> 역  9788932911984      열린책들  20120210          15      1    N        NaN  기기PID_PC      경기도  수원시 장안구                    1               68"
      ]
     },
     "execution_count": 53,
     "metadata": {},
     "output_type": "execute_result"
    }
   ],
   "source": [
    "len(traindf['Title'].unique())\n",
    "traindf.head()"
   ]
  },
  {
   "cell_type": "markdown",
   "metadata": {},
   "source": [
    "The baseline algorithm itself is very simple. For each customer in training set, we correct all the previous transactions. This will give us the set of purchased books per customer. Then we look for all the customers who bought books in this set. This now becomes the set of customers (`set of close customers`). Last we obtain the list of books bought by each customer in this set. We can compute the histogram from the list. We sort the list with respect to the probability of books and recomend to the customer."
   ]
  },
  {
   "cell_type": "code",
   "execution_count": 47,
   "metadata": {
    "collapsed": false
   },
   "outputs": [
    {
     "name": "stdout",
     "output_type": "stream",
     "text": [
      "CPU times: user 37min 19s, sys: 19.9 s, total: 37min 39s\n",
      "Wall time: 38min\n"
     ]
    }
   ],
   "source": [
    "%%time\n",
    "baseline = {}\n",
    "for cus in list(traindf['ID']): \n",
    "    \n",
    "    bookrec = []\n",
    "    history = list(traindf[traindf['ID']==cus]['Title'])\n",
    "    relatives = list(traindf[traindf['Title'].isin(history)]['ID'])\n",
    "    relatives.remove(cus)  # remove myself\n",
    "    setdf = traindf[traindf['ID'].isin(relatives)].groupby('Title').size().order(ascending=False)\n",
    "\n",
    "    # Do not recommend if I bought the book already\n",
    "    for book in list(setdf.index):\n",
    "        if book not in history:\n",
    "            bookrec.append(book)\n",
    "\n",
    "    baseline[cus] = bookrec[:3]               "
   ]
  },
  {
   "cell_type": "code",
   "execution_count": 48,
   "metadata": {
    "collapsed": false
   },
   "outputs": [
    {
     "data": {
      "text/html": [
       "<div>\n",
       "<table border=\"1\" class=\"dataframe\">\n",
       "  <thead>\n",
       "    <tr style=\"text-align: right;\">\n",
       "      <th></th>\n",
       "      <th>ID</th>\n",
       "      <th>Rec</th>\n",
       "    </tr>\n",
       "  </thead>\n",
       "  <tbody>\n",
       "    <tr>\n",
       "      <th>0</th>\n",
       "      <td>98304</td>\n",
       "      <td>[1cm+, 창문 넘어 도망친 100세 노인, 여덟 단어]</td>\n",
       "    </tr>\n",
       "    <tr>\n",
       "      <th>1</th>\n",
       "      <td>85108</td>\n",
       "      <td>[심리학의 즐거움, 소크라테스의 변명, 살아갈 날들을 위한 공부]</td>\n",
       "    </tr>\n",
       "    <tr>\n",
       "      <th>2</th>\n",
       "      <td>32770</td>\n",
       "      <td>[창문 넘어 도망친 100세 노인, 어떤 하루, 내가 알고 있는 걸 당신도 알게 된다면]</td>\n",
       "    </tr>\n",
       "    <tr>\n",
       "      <th>3</th>\n",
       "      <td>76459</td>\n",
       "      <td>[내가 사랑한 유럽 TOP10, 속죄, 나를 지켜낸다는 것]</td>\n",
       "    </tr>\n",
       "    <tr>\n",
       "      <th>4</th>\n",
       "      <td>32772</td>\n",
       "      <td>[창문 넘어 도망친 100세 노인, 나는 까칠하게 살기로 했다, 미 비포 유]</td>\n",
       "    </tr>\n",
       "  </tbody>\n",
       "</table>\n",
       "</div>"
      ],
      "text/plain": [
       "      ID                                                Rec\n",
       "0  98304                   [1cm+, 창문 넘어 도망친 100세 노인, 여덟 단어]\n",
       "1  85108               [심리학의 즐거움, 소크라테스의 변명, 살아갈 날들을 위한 공부]\n",
       "2  32770  [창문 넘어 도망친 100세 노인, 어떤 하루, 내가 알고 있는 걸 당신도 알게 된다면]\n",
       "3  76459                  [내가 사랑한 유럽 TOP10, 속죄, 나를 지켜낸다는 것]\n",
       "4  32772        [창문 넘어 도망친 100세 노인, 나는 까칠하게 살기로 했다, 미 비포 유]"
      ]
     },
     "execution_count": 48,
     "metadata": {},
     "output_type": "execute_result"
    }
   ],
   "source": [
    "baseline_df = pd.DataFrame(baseline.items(), columns=['ID', 'Rec'])\n",
    "baseline_df.head()"
   ]
  },
  {
   "cell_type": "markdown",
   "metadata": {},
   "source": [
    "Once we compute the dataframe of recommendation books, we can calculate the accuracy of recommendation from the test set. We can see that for the data including all 5 categories, the accuracy is about 3%. "
   ]
  },
  {
   "cell_type": "code",
   "execution_count": 49,
   "metadata": {
    "collapsed": false
   },
   "outputs": [
    {
     "name": "stdout",
     "output_type": "stream",
     "text": [
      "0.031786074672\n"
     ]
    }
   ],
   "source": [
    "score = []\n",
    "for cus in testdf['ID']:\n",
    "    actual = list(testdf[testdf['ID'] == cus]['Title'])\n",
    "    pred = baseline_df[baseline_df['ID']==cus]['Rec']\n",
    "    score.append(len(list(set(actual).intersection(pred.item())))/float(len(actual)))\n",
    "\n",
    "print np.mean(score)"
   ]
  },
  {
   "cell_type": "code",
   "execution_count": 6,
   "metadata": {
    "collapsed": false
   },
   "outputs": [],
   "source": [
    "score.sort(reverse=True)"
   ]
  }
 ],
 "metadata": {
  "kernelspec": {
   "display_name": "Python 2",
   "language": "python",
   "name": "python2"
  },
  "language_info": {
   "codemirror_mode": {
    "name": "ipython",
    "version": 2
   },
   "file_extension": ".py",
   "mimetype": "text/x-python",
   "name": "python",
   "nbconvert_exporter": "python",
   "pygments_lexer": "ipython2",
   "version": "2.7.10"
  }
 },
 "nbformat": 4,
 "nbformat_minor": 0
}
